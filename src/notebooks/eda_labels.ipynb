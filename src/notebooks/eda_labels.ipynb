{
 "cells": [
  {
   "cell_type": "markdown",
   "metadata": {},
   "source": [
    "# Initialization"
   ]
  },
  {
   "cell_type": "code",
   "execution_count": 1,
   "metadata": {
    "ExecuteTime": {
     "end_time": "2020-04-02T17:01:25.698077Z",
     "start_time": "2020-04-02T17:01:25.695556Z"
    }
   },
   "outputs": [],
   "source": [
    "import sys\n",
    "sys.path.append(\"..\")"
   ]
  },
  {
   "cell_type": "code",
   "execution_count": 5,
   "metadata": {
    "ExecuteTime": {
     "end_time": "2020-04-02T17:01:55.941346Z",
     "start_time": "2020-04-02T17:01:54.824363Z"
    }
   },
   "outputs": [],
   "source": [
    "## Imports\n",
    "import numpy as np\n",
    "import pandas as pd\n",
    "%matplotlib inline\n",
    "import matplotlib\n",
    "import matplotlib.pyplot as plt\n",
    "import seaborn as sb\n",
    "sb.set(style=\"white\", palette=\"muted\")\n",
    "import mydatasets\n",
    "import utils\n",
    "import math\n",
    "from sklearn.neighbors import NearestNeighbors\n",
    "import os"
   ]
  },
  {
   "cell_type": "code",
   "execution_count": 2,
   "metadata": {
    "ExecuteTime": {
     "end_time": "2020-04-02T17:01:49.789550Z",
     "start_time": "2020-04-02T17:01:49.787186Z"
    }
   },
   "outputs": [],
   "source": [
    "DATASET=\"mediamill\"\n",
    "SPLIT=0"
   ]
  },
  {
   "cell_type": "code",
   "execution_count": 3,
   "metadata": {
    "ExecuteTime": {
     "end_time": "2020-04-02T17:01:50.414102Z",
     "start_time": "2020-04-02T17:01:50.410694Z"
    }
   },
   "outputs": [
    {
     "name": "stdout",
     "output_type": "stream",
     "text": [
      "Dataset : mediamill / Split : 0\n"
     ]
    }
   ],
   "source": [
    "print(\"Dataset :\",DATASET,\"/ Split :\",SPLIT)"
   ]
  },
  {
   "cell_type": "code",
   "execution_count": 19,
   "metadata": {
    "ExecuteTime": {
     "end_time": "2020-04-02T17:06:56.530666Z",
     "start_time": "2020-04-02T17:06:49.777575Z"
    }
   },
   "outputs": [
    {
     "name": "stdout",
     "output_type": "stream",
     "text": [
      "Loading datasets\n",
      "../data/Mediamill/Mediamill_data.txt\n",
      "../data/Mediamill/mediamill_trSplit.txt\n",
      "../data/Mediamill/mediamill_tstSplit.txt\n",
      "Number of splits : 10\n",
      "## HEADER ##\n",
      "#Point : 43907 , #Features : 120 , #Labels : 101\n"
     ]
    }
   ],
   "source": [
    "curr_dir=os.getcwd()\n",
    "os.chdir(\"..\")\n",
    "if DATASET in [\"mediamill\",\"delicious\"]:\n",
    "    full_dataset,trn_splits,tst_splits=mydatasets.load_small_dataset(DATASET)\n",
    "    trn_data,tst_data=mydatasets.get_small_dataset_split(full_dataset,trn_splits,tst_splits,SPLIT)\n",
    "else:\n",
    "    trn_data,tst_data=mydatasets.load_large_dataset(DATASET)\n",
    "os.chdir(curr_dir)\n",
    "x_mat,y_mat=mydatasets.get_arrays(trn_data)\n",
    "x_tst,y_tst=mydatasets.get_arrays(tst_data)"
   ]
  },
  {
   "cell_type": "code",
   "execution_count": 20,
   "metadata": {
    "ExecuteTime": {
     "end_time": "2020-04-02T17:06:56.536371Z",
     "start_time": "2020-04-02T17:06:56.532423Z"
    }
   },
   "outputs": [
    {
     "name": "stdout",
     "output_type": "stream",
     "text": [
      "x_mat : (30993, 120)\n",
      "y_mat : (30993, 101)\n",
      "x_tst : (12914, 120)\n",
      "y_tst : (12914, 101)\n"
     ]
    }
   ],
   "source": [
    "print(\"x_mat :\",x_mat.shape)\n",
    "print(\"y_mat :\",y_mat.shape)\n",
    "print(\"x_tst :\",x_tst.shape)\n",
    "print(\"y_tst :\",y_tst.shape)"
   ]
  },
  {
   "cell_type": "markdown",
   "metadata": {},
   "source": [
    "# Analysis"
   ]
  },
  {
   "cell_type": "code",
   "execution_count": 21,
   "metadata": {
    "ExecuteTime": {
     "end_time": "2020-04-02T17:06:58.989991Z",
     "start_time": "2020-04-02T17:06:58.986270Z"
    }
   },
   "outputs": [
    {
     "name": "stdout",
     "output_type": "stream",
     "text": [
      "----Training set stats----\n",
      "Number of points : 30993\n",
      "Feature dimensionality : 120\n",
      "Label dimensionality : 101\n"
     ]
    }
   ],
   "source": [
    "num_points=x_mat.shape[0]\n",
    "num_features=x_mat.shape[1]\n",
    "num_labels=y_mat.shape[1]\n",
    "print(\"----Training set stats----\")\n",
    "print(\"Number of points :\",num_points)\n",
    "print(\"Feature dimensionality :\",num_features)\n",
    "print(\"Label dimensionality :\",num_labels)"
   ]
  },
  {
   "cell_type": "markdown",
   "metadata": {},
   "source": [
    "Let's reorder by count for simplicity"
   ]
  },
  {
   "cell_type": "code",
   "execution_count": 26,
   "metadata": {
    "ExecuteTime": {
     "end_time": "2020-04-02T17:07:50.473562Z",
     "start_time": "2020-04-02T17:07:50.462296Z"
    }
   },
   "outputs": [],
   "source": [
    "label_counts=np.sum(y_mat,axis=0)\n",
    "reorder_idcs=np.argsort(label_counts)\n",
    "y_mat=y_mat[:,reorder_idcs]"
   ]
  },
  {
   "cell_type": "markdown",
   "metadata": {},
   "source": [
    "## Empty labelsets"
   ]
  },
  {
   "cell_type": "code",
   "execution_count": 25,
   "metadata": {
    "ExecuteTime": {
     "end_time": "2020-04-02T17:07:48.445563Z",
     "start_time": "2020-04-02T17:07:48.438407Z"
    },
    "scrolled": true
   },
   "outputs": [
    {
     "name": "stdout",
     "output_type": "stream",
     "text": [
      "Number of points with empty labelsets : 1197 , 3.862 %\n"
     ]
    }
   ],
   "source": [
    "cardinalities=np.sum(y_mat,axis=1)\n",
    "num_empty=np.sum((cardinalities==0)*1)\n",
    "percent=np.round(100*num_empty/num_points,decimals=3)\n",
    "print(\"Number of points with empty labelsets :\",num_empty,\",\",percent,\"%\")"
   ]
  },
  {
   "cell_type": "markdown",
   "metadata": {},
   "source": [
    "## Label counts"
   ]
  },
  {
   "cell_type": "markdown",
   "metadata": {},
   "source": [
    "### Mean Stats"
   ]
  },
  {
   "cell_type": "code",
   "execution_count": 29,
   "metadata": {
    "ExecuteTime": {
     "end_time": "2020-04-02T17:08:01.434788Z",
     "start_time": "2020-04-02T17:08:01.400723Z"
    }
   },
   "outputs": [
    {
     "data": {
      "text/html": [
       "<div>\n",
       "<style scoped>\n",
       "    .dataframe tbody tr th:only-of-type {\n",
       "        vertical-align: middle;\n",
       "    }\n",
       "\n",
       "    .dataframe tbody tr th {\n",
       "        vertical-align: top;\n",
       "    }\n",
       "\n",
       "    .dataframe thead th {\n",
       "        text-align: right;\n",
       "    }\n",
       "</style>\n",
       "<table border=\"1\" class=\"dataframe\">\n",
       "  <thead>\n",
       "    <tr style=\"text-align: right;\">\n",
       "      <th></th>\n",
       "      <th>count</th>\n",
       "      <th>percent</th>\n",
       "      <th>log_count</th>\n",
       "    </tr>\n",
       "  </thead>\n",
       "  <tbody>\n",
       "    <tr>\n",
       "      <th>0</th>\n",
       "      <td>22</td>\n",
       "      <td>0.071</td>\n",
       "      <td>3.091042</td>\n",
       "    </tr>\n",
       "    <tr>\n",
       "      <th>1</th>\n",
       "      <td>23</td>\n",
       "      <td>0.074</td>\n",
       "      <td>3.135494</td>\n",
       "    </tr>\n",
       "    <tr>\n",
       "      <th>2</th>\n",
       "      <td>24</td>\n",
       "      <td>0.077</td>\n",
       "      <td>3.178054</td>\n",
       "    </tr>\n",
       "    <tr>\n",
       "      <th>3</th>\n",
       "      <td>24</td>\n",
       "      <td>0.077</td>\n",
       "      <td>3.178054</td>\n",
       "    </tr>\n",
       "    <tr>\n",
       "      <th>4</th>\n",
       "      <td>24</td>\n",
       "      <td>0.077</td>\n",
       "      <td>3.178054</td>\n",
       "    </tr>\n",
       "    <tr>\n",
       "      <th>...</th>\n",
       "      <td>...</td>\n",
       "      <td>...</td>\n",
       "      <td>...</td>\n",
       "    </tr>\n",
       "    <tr>\n",
       "      <th>96</th>\n",
       "      <td>6270</td>\n",
       "      <td>20.230</td>\n",
       "      <td>8.743532</td>\n",
       "    </tr>\n",
       "    <tr>\n",
       "      <th>97</th>\n",
       "      <td>10641</td>\n",
       "      <td>34.334</td>\n",
       "      <td>9.272470</td>\n",
       "    </tr>\n",
       "    <tr>\n",
       "      <th>98</th>\n",
       "      <td>11140</td>\n",
       "      <td>35.944</td>\n",
       "      <td>9.318298</td>\n",
       "    </tr>\n",
       "    <tr>\n",
       "      <th>99</th>\n",
       "      <td>19696</td>\n",
       "      <td>63.550</td>\n",
       "      <td>9.888171</td>\n",
       "    </tr>\n",
       "    <tr>\n",
       "      <th>100</th>\n",
       "      <td>23910</td>\n",
       "      <td>77.146</td>\n",
       "      <td>10.082052</td>\n",
       "    </tr>\n",
       "  </tbody>\n",
       "</table>\n",
       "<p>101 rows × 3 columns</p>\n",
       "</div>"
      ],
      "text/plain": [
       "     count  percent  log_count\n",
       "0       22    0.071   3.091042\n",
       "1       23    0.074   3.135494\n",
       "2       24    0.077   3.178054\n",
       "3       24    0.077   3.178054\n",
       "4       24    0.077   3.178054\n",
       "..     ...      ...        ...\n",
       "96    6270   20.230   8.743532\n",
       "97   10641   34.334   9.272470\n",
       "98   11140   35.944   9.318298\n",
       "99   19696   63.550   9.888171\n",
       "100  23910   77.146  10.082052\n",
       "\n",
       "[101 rows x 3 columns]"
      ]
     },
     "metadata": {},
     "output_type": "display_data"
    },
    {
     "data": {
      "text/html": [
       "<div>\n",
       "<style scoped>\n",
       "    .dataframe tbody tr th:only-of-type {\n",
       "        vertical-align: middle;\n",
       "    }\n",
       "\n",
       "    .dataframe tbody tr th {\n",
       "        vertical-align: top;\n",
       "    }\n",
       "\n",
       "    .dataframe thead th {\n",
       "        text-align: right;\n",
       "    }\n",
       "</style>\n",
       "<table border=\"1\" class=\"dataframe\">\n",
       "  <thead>\n",
       "    <tr style=\"text-align: right;\">\n",
       "      <th></th>\n",
       "      <th>count</th>\n",
       "      <th>percent</th>\n",
       "      <th>log_count</th>\n",
       "    </tr>\n",
       "  </thead>\n",
       "  <tbody>\n",
       "    <tr>\n",
       "      <th>count</th>\n",
       "      <td>101.000000</td>\n",
       "      <td>101.000000</td>\n",
       "      <td>101.000000</td>\n",
       "    </tr>\n",
       "    <tr>\n",
       "      <th>mean</th>\n",
       "      <td>1345.752475</td>\n",
       "      <td>4.342109</td>\n",
       "      <td>5.557307</td>\n",
       "    </tr>\n",
       "    <tr>\n",
       "      <th>std</th>\n",
       "      <td>3486.967150</td>\n",
       "      <td>11.250828</td>\n",
       "      <td>1.754434</td>\n",
       "    </tr>\n",
       "    <tr>\n",
       "      <th>min</th>\n",
       "      <td>22.000000</td>\n",
       "      <td>0.071000</td>\n",
       "      <td>3.091042</td>\n",
       "    </tr>\n",
       "    <tr>\n",
       "      <th>25%</th>\n",
       "      <td>68.000000</td>\n",
       "      <td>0.219000</td>\n",
       "      <td>4.219508</td>\n",
       "    </tr>\n",
       "    <tr>\n",
       "      <th>50%</th>\n",
       "      <td>218.000000</td>\n",
       "      <td>0.703000</td>\n",
       "      <td>5.384495</td>\n",
       "    </tr>\n",
       "    <tr>\n",
       "      <th>75%</th>\n",
       "      <td>886.000000</td>\n",
       "      <td>2.859000</td>\n",
       "      <td>6.786717</td>\n",
       "    </tr>\n",
       "    <tr>\n",
       "      <th>max</th>\n",
       "      <td>23910.000000</td>\n",
       "      <td>77.146000</td>\n",
       "      <td>10.082052</td>\n",
       "    </tr>\n",
       "  </tbody>\n",
       "</table>\n",
       "</div>"
      ],
      "text/plain": [
       "              count     percent   log_count\n",
       "count    101.000000  101.000000  101.000000\n",
       "mean    1345.752475    4.342109    5.557307\n",
       "std     3486.967150   11.250828    1.754434\n",
       "min       22.000000    0.071000    3.091042\n",
       "25%       68.000000    0.219000    4.219508\n",
       "50%      218.000000    0.703000    5.384495\n",
       "75%      886.000000    2.859000    6.786717\n",
       "max    23910.000000   77.146000   10.082052"
      ]
     },
     "metadata": {},
     "output_type": "display_data"
    }
   ],
   "source": [
    "label_counts=np.sum(y_mat,axis=0)\n",
    "count_df=pd.DataFrame(label_counts,columns=[\"count\"])\n",
    "count_df[\"percent\"]=np.round(100*count_df[\"count\"]/num_points,decimals=3)\n",
    "count_df[\"log_count\"]=np.log(np.maximum(count_df[\"count\"],1))\n",
    "display(count_df)\n",
    "display(count_df.describe())"
   ]
  },
  {
   "cell_type": "markdown",
   "metadata": {},
   "source": [
    "### Empty labels"
   ]
  },
  {
   "cell_type": "code",
   "execution_count": 30,
   "metadata": {
    "ExecuteTime": {
     "end_time": "2020-04-02T17:08:29.377812Z",
     "start_time": "2020-04-02T17:08:29.374136Z"
    }
   },
   "outputs": [
    {
     "name": "stdout",
     "output_type": "stream",
     "text": [
      "There are 0 labels with no examples in this dataset\n"
     ]
    }
   ],
   "source": [
    "num_empty=np.sum((label_counts==0)*1)\n",
    "print(\"There are\",num_empty,\"labels with no examples in this dataset\")"
   ]
  },
  {
   "cell_type": "markdown",
   "metadata": {},
   "source": [
    "### Distribution/Frequency"
   ]
  },
  {
   "cell_type": "code",
   "execution_count": 51,
   "metadata": {
    "ExecuteTime": {
     "end_time": "2020-04-02T17:24:21.886183Z",
     "start_time": "2020-04-02T17:24:21.320517Z"
    }
   },
   "outputs": [
    {
     "data": {
      "image/png": "[encoded data removed]",
      "text/plain": [
       "<Figure size 864x432 with 2 Axes>"
      ]
     },
     "metadata": {},
     "output_type": "display_data"
    }
   ],
   "source": [
    "fig,axes=plt.subplots(1,2,squeeze=False,figsize=(12,6))\n",
    "axes[0][0].set_title(\"distribution of count\")\n",
    "axes[0][0].set_xlabel(\"count\")\n",
    "axes[0][0].set_ylabel(\"frequency\")\n",
    "sb.distplot(count_df[\"count\"],kde=False,bins=30,ax=axes[0][0])\n",
    "axes[0][1].set_title(\"distribution of log(count)\")\n",
    "axes[0][1].set_xlabel(\"log(count)\")\n",
    "axes[0][1].set_ylabel(\"frequency\")\n",
    "_=sb.distplot(count_df[\"log_count\"],kde=False,bins=30,ax=axes[0][1])"
   ]
  },
  {
   "cell_type": "markdown",
   "metadata": {},
   "source": [
    "### Counts vs Rank"
   ]
  },
  {
   "cell_type": "code",
   "execution_count": 44,
   "metadata": {
    "ExecuteTime": {
     "end_time": "2020-04-02T17:16:10.434080Z",
     "start_time": "2020-04-02T17:16:09.939883Z"
    }
   },
   "outputs": [
    {
     "data": {
      "image/png": "[encoded data removed]",
      "text/plain": [
       "<Figure size 864x432 with 2 Axes>"
      ]
     },
     "metadata": {},
     "output_type": "display_data"
    }
   ],
   "source": [
    "fig,axes=plt.subplots(1,2,squeeze=False,figsize=(12,6))\n",
    "axes[0][0].set_title(\"count vs rank\")\n",
    "axes[0][0].set_xlabel(\"rank\")\n",
    "axes[0][0].set_ylabel(\"count\")\n",
    "axes[0][0].plot(np.arange(1,num_labels+1),count_df[\"count\"].to_numpy(),\"r+-\")\n",
    "axes[0][1].set_title(\"log(count) vs rank\")\n",
    "axes[0][1].set_xlabel(\"rank\")\n",
    "axes[0][1].set_ylabel(\"log(count)\")\n",
    "_=axes[0][1].plot(np.arange(1,num_labels+1),count_df[\"log_count\"].to_numpy(),\"r+-\")"
   ]
  },
  {
   "cell_type": "markdown",
   "metadata": {},
   "source": [
    "## Label Overlap"
   ]
  },
  {
   "cell_type": "markdown",
   "metadata": {},
   "source": [
    "### Label Cooccurrences/Intersections"
   ]
  },
  {
   "cell_type": "code",
   "execution_count": 52,
   "metadata": {
    "ExecuteTime": {
     "end_time": "2020-04-02T17:29:56.210280Z",
     "start_time": "2020-04-02T17:29:56.030278Z"
    }
   },
   "outputs": [],
   "source": [
    "cc_mat=utils.generate_cooccurrence_matrix(y_mat)\n",
    "cc_mat_copy=np.copy(cc_mat)\n",
    "# set lower triangle to 0\n",
    "for i in range(0,cc_mat.shape[0]):\n",
    "    cc_mat[i:,i]=np.nan"
   ]
  },
  {
   "cell_type": "markdown",
   "metadata": {},
   "source": [
    "#### Mean Stats"
   ]
  },
  {
   "cell_type": "code",
   "execution_count": 53,
   "metadata": {
    "ExecuteTime": {
     "end_time": "2020-04-02T17:33:58.606145Z",
     "start_time": "2020-04-02T17:33:58.584919Z"
    }
   },
   "outputs": [
    {
     "data": {
      "text/html": [
       "<div>\n",
       "<style scoped>\n",
       "    .dataframe tbody tr th:only-of-type {\n",
       "        vertical-align: middle;\n",
       "    }\n",
       "\n",
       "    .dataframe tbody tr th {\n",
       "        vertical-align: top;\n",
       "    }\n",
       "\n",
       "    .dataframe thead th {\n",
       "        text-align: right;\n",
       "    }\n",
       "</style>\n",
       "<table border=\"1\" class=\"dataframe\">\n",
       "  <thead>\n",
       "    <tr style=\"text-align: right;\">\n",
       "      <th></th>\n",
       "      <th>cooccurrence</th>\n",
       "      <th>log_cc</th>\n",
       "    </tr>\n",
       "  </thead>\n",
       "  <tbody>\n",
       "    <tr>\n",
       "      <th>count</th>\n",
       "      <td>5050.000000</td>\n",
       "      <td>5050.000000</td>\n",
       "    </tr>\n",
       "    <tr>\n",
       "      <th>mean</th>\n",
       "      <td>62.321782</td>\n",
       "      <td>1.129500</td>\n",
       "    </tr>\n",
       "    <tr>\n",
       "      <th>std</th>\n",
       "      <td>447.042098</td>\n",
       "      <td>1.861905</td>\n",
       "    </tr>\n",
       "    <tr>\n",
       "      <th>min</th>\n",
       "      <td>0.000000</td>\n",
       "      <td>0.000000</td>\n",
       "    </tr>\n",
       "    <tr>\n",
       "      <th>25%</th>\n",
       "      <td>0.000000</td>\n",
       "      <td>0.000000</td>\n",
       "    </tr>\n",
       "    <tr>\n",
       "      <th>50%</th>\n",
       "      <td>0.000000</td>\n",
       "      <td>0.000000</td>\n",
       "    </tr>\n",
       "    <tr>\n",
       "      <th>75%</th>\n",
       "      <td>7.000000</td>\n",
       "      <td>1.945910</td>\n",
       "    </tr>\n",
       "    <tr>\n",
       "      <th>max</th>\n",
       "      <td>19696.000000</td>\n",
       "      <td>9.888171</td>\n",
       "    </tr>\n",
       "  </tbody>\n",
       "</table>\n",
       "</div>"
      ],
      "text/plain": [
       "       cooccurrence       log_cc\n",
       "count   5050.000000  5050.000000\n",
       "mean      62.321782     1.129500\n",
       "std      447.042098     1.861905\n",
       "min        0.000000     0.000000\n",
       "25%        0.000000     0.000000\n",
       "50%        0.000000     0.000000\n",
       "75%        7.000000     1.945910\n",
       "max    19696.000000     9.888171"
      ]
     },
     "metadata": {},
     "output_type": "display_data"
    }
   ],
   "source": [
    "cc_vals_df=pd.DataFrame(cc_mat.flatten(),columns=[\"cooccurrence\"])\n",
    "cc_vals_df=cc_vals_df.dropna()\n",
    "cc_vals_df[\"log_cc\"]=np.log(np.maximum(1,cc_vals_df[\"cooccurrence\"]))\n",
    "display(cc_vals_df.describe())"
   ]
  },
  {
   "cell_type": "markdown",
   "metadata": {},
   "source": [
    "#### Sparsity of cooccurrence matrix"
   ]
  },
  {
   "cell_type": "code",
   "execution_count": 56,
   "metadata": {
    "ExecuteTime": {
     "end_time": "2020-04-02T17:43:57.054557Z",
     "start_time": "2020-04-02T17:43:57.041873Z"
    },
    "scrolled": false
   },
   "outputs": [
    {
     "name": "stdout",
     "output_type": "stream",
     "text": [
      " #entries <= 0 = 2837 , 56.178 %\n",
      " #entries <= 10 = 3939 , 78.0 %\n",
      " #entries <= 100 = 4686 , 92.792 %\n",
      " #entries <= 1000 = 4980 , 98.614 %\n",
      " #entries <= 10000 = 5049 , 99.98 %\n",
      " #entries <= 100000 = 5050 , 100.0 %\n"
     ]
    }
   ],
   "source": [
    "cc_vals_arr=cc_vals_df[\"cooccurrence\"].to_numpy()\n",
    "total_entries=cc_vals_arr.shape[0]\n",
    "i=0\n",
    "num_entries=0\n",
    "while(num_entries<total_entries and i < 7):\n",
    "    thresh= 0 if i==0 else 10**i\n",
    "    num_entries=np.sum((cc_vals_arr <= thresh)*1)\n",
    "    percent=np.round(100*num_entries/total_entries,decimals=3)\n",
    "    print(\" #entries <=\",str(thresh),\"=\",str(num_entries),\",\",str(percent),\"%\")\n",
    "    i+=1"
   ]
  },
  {
   "cell_type": "markdown",
   "metadata": {},
   "source": [
    "#### Distribution of matrix values"
   ]
  },
  {
   "cell_type": "code",
   "execution_count": 60,
   "metadata": {
    "ExecuteTime": {
     "end_time": "2020-04-02T18:00:38.803932Z",
     "start_time": "2020-04-02T18:00:38.488987Z"
    }
   },
   "outputs": [
    {
     "data": {
      "image/png": "[encoded data removed]",
      "text/plain": [
       "<Figure size 432x432 with 1 Axes>"
      ]
     },
     "metadata": {},
     "output_type": "display_data"
    }
   ],
   "source": [
    "filtered=cc_vals_df[cc_vals_df[\"cooccurrence\"]>0]\n",
    "plt.figure(figsize=(6,6))\n",
    "plt.title(\"distribution of log(coocc)\")\n",
    "plt.xlabel(\"coocc\")\n",
    "plt.ylabel(\"frequency\")\n",
    "_=sb.distplot(filtered[\"log_cc\"],kde=False,bins=30)"
   ]
  },
  {
   "cell_type": "markdown",
   "metadata": {},
   "source": [
    "### Number of non-empty interesections/columns (friend labels) vs rank"
   ]
  },
  {
   "cell_type": "markdown",
   "metadata": {},
   "source": [
    "Let the number of labels that a label **L** intersects with be called \"friends\"."
   ]
  },
  {
   "cell_type": "code",
   "execution_count": 61,
   "metadata": {
    "ExecuteTime": {
     "end_time": "2020-04-02T18:00:53.681781Z",
     "start_time": "2020-04-02T18:00:53.401139Z"
    }
   },
   "outputs": [
    {
     "data": {
      "text/plain": [
       "array([ 22,  17,  21,  17,  16,  28,  21,  17,  12,  15,  24,  28,  19,\n",
       "         7,  23,  11,  23,  18,  17,  21,  22,  22,  26,  21,  25,  25,\n",
       "        29,  31,  14,  32,  14,  24,  29,  21,  30,   7,  22,  28,  39,\n",
       "        25,  13,  39,  44,  29,  20,  24,  51,  25,  26,  49,  47,  40,\n",
       "        21,  58,  51,  54,  52,  49,  51,  52,  47,  43,  61,  54,  39,\n",
       "        52,  22,  40,  48,  57,  47,  54,  55,  58,  64,  55,  56,  56,\n",
       "        60,  78,  61,  74,  68,  60,  74,  76,  79,  85,  79,  71,  81,\n",
       "        88,  95,  79,  94,  72,  90,  97,  99, 100, 100])"
      ]
     },
     "metadata": {},
     "output_type": "display_data"
    },
    {
     "data": {
      "image/png": "[encoded data removed]",
      "text/plain": [
       "<Figure size 432x432 with 1 Axes>"
      ]
     },
     "metadata": {},
     "output_type": "display_data"
    }
   ],
   "source": [
    "cc_mat=cc_mat_copy\n",
    "friend_counts=np.sum((cc_mat>0)*1,axis=0)-1\n",
    "display(friend_counts)\n",
    "plt.figure(figsize=(6,6))\n",
    "plt.title(\"num_friends vs rank\")\n",
    "plt.xlabel(\"rank\")\n",
    "plt.ylabel(\"num_friends\")\n",
    "plt.plot(np.arange(1,num_labels+1),friend_counts,\"o-g\")\n",
    "_=plt.plot(np.arange(0,num_labels+2),np.arange(0,num_labels+2),\"--r\",alpha=0.2)"
   ]
  },
  {
   "cell_type": "code",
   "execution_count": 62,
   "metadata": {
    "ExecuteTime": {
     "end_time": "2020-04-02T18:00:55.673248Z",
     "start_time": "2020-04-02T18:00:55.399277Z"
    },
    "scrolled": true
   },
   "outputs": [
    {
     "data": {
      "image/png": "[encoded data removed]",
      "text/plain": [
       "<Figure size 432x432 with 1 Axes>"
      ]
     },
     "metadata": {},
     "output_type": "display_data"
    }
   ],
   "source": [
    "plt.figure(figsize=(6,6))\n",
    "plt.title(\"distribution of num_friends\")\n",
    "plt.xlabel(\"num_friends\")\n",
    "plt.ylabel(\"frequency\")\n",
    "_=sb.distplot(friend_counts,kde=False,bins=30)"
   ]
  },
  {
   "cell_type": "markdown",
   "metadata": {},
   "source": [
    "### Average labelset length vs rank"
   ]
  },
  {
   "cell_type": "code",
   "execution_count": 63,
   "metadata": {
    "ExecuteTime": {
     "end_time": "2020-04-02T18:01:24.053736Z",
     "start_time": "2020-04-02T18:01:23.875110Z"
    }
   },
   "outputs": [],
   "source": [
    "lset_lengths_means=np.zeros(num_labels)\n",
    "lset_lengths_variances=np.zeros(num_labels)\n",
    "for i in range(0,num_labels):\n",
    "    supp=y_mat[:,i]>0\n",
    "    lengths=np.sum(y_mat[supp,:],axis=1)\n",
    "    lset_lengths_means[i]=np.mean(lengths)\n",
    "    lset_lengths_variances[i]=np.var(lengths)"
   ]
  },
  {
   "cell_type": "code",
   "execution_count": 64,
   "metadata": {
    "ExecuteTime": {
     "end_time": "2020-04-02T18:01:24.679208Z",
     "start_time": "2020-04-02T18:01:24.673956Z"
    }
   },
   "outputs": [
    {
     "name": "stdout",
     "output_type": "stream",
     "text": [
      "[7.22727273 7.56521739 6.95833333 7.125      4.95833333 7.04\n",
      " 7.53846154 6.         3.92592593 6.18518519 8.55555556 8.90322581\n",
      " 6.51515152 4.52941176 6.26315789 3.76315789 5.92857143 6.73809524\n",
      " 8.60465116 5.76086957 6.83333333 8.6122449  6.82692308 5.74193548\n",
      " 5.77272727 4.94117647 4.08823529 6.24637681 4.125      7.\n",
      " 6.65384615 5.32051282 6.4        8.40740741 6.03703704 4.31868132\n",
      " 5.77894737 5.80808081 6.92079208 8.05785124 5.96992481 6.87234043\n",
      " 7.22377622 5.80662983 6.66486486 2.71808511 7.54       4.58095238\n",
      " 6.53953488 6.89908257 6.77522936 6.9650655  5.95582329 7.2173913\n",
      " 5.7007874  8.25968992 7.90181818 4.8590604  6.43853821 7.1986755\n",
      " 6.84437086 7.07164179 6.9852071  7.79022989 5.47169811 6.64231738\n",
      " 7.89698492 6.21921182 7.35334873 6.15800866 5.45738046 4.16966068\n",
      " 5.34164223 5.78343023 7.17729592 5.66817156 4.27320675 7.2537594\n",
      " 5.29244444 6.6572549  5.7758501  5.64895763 7.99206349 6.07367758\n",
      " 6.99937695 7.36470078 6.92493847 6.49330709 7.60758543 5.5782957\n",
      " 6.78883639 6.62857986 6.0422429  5.65809414 7.07809063 4.16828598\n",
      " 5.64720893 5.78507659 4.82289048 4.84352153 4.90853199]\n",
      "[ 4.26652893  2.24574669  3.45659722  1.609375    3.53993056  6.5984\n",
      "  1.9408284   4.          2.6611797   1.48422497 11.43209877  7.63579605\n",
      "  2.43158861  1.07266436  3.08864266  2.54916898  5.6377551   3.14569161\n",
      "  1.86695511  2.35586011  6.18055556  1.91087047  2.1431213   2.90114464\n",
      "  2.41804408  3.87889273  5.99221453  4.47553035  1.99826389  4.84210526\n",
      "  2.35453649  2.1665023   2.415       1.15500686  2.75171468  1.03031035\n",
      "  2.17218837  3.87225793  5.7957063   3.3602896   1.23217819  5.75675268\n",
      "  5.33453959  2.75266323  0.97957633  2.65988569  7.1284      4.27201814\n",
      "  1.61587885  4.02651292  3.88067082  6.02498045  1.10246609  5.79068568\n",
      "  5.90259781  3.32403401  5.35399669  5.12778704  5.61499321  4.80158765\n",
      "  3.57511732  3.24262865  4.82522496  6.76921489  4.92844429  3.92244098\n",
      "  1.73561905  3.04307918  5.64188832  4.76507655  2.40618773  4.46023721\n",
      "  3.57976153  4.25978358  4.95708657  1.99824203  6.06776313  2.62733549\n",
      "  2.28869847  6.1452709   1.92408021  2.77656751  3.90337617  1.689156\n",
      "  6.40436098  4.88910956  6.01282352  5.57042765  3.97255981  3.67795573\n",
      "  5.00000532  5.41386285  4.91196962  2.10514401  4.68659873  3.13061659\n",
      "  2.08191805  5.66746266  5.34951193  3.83964934  4.38515096]\n"
     ]
    }
   ],
   "source": [
    "print(lset_lengths_means)\n",
    "print(lset_lengths_variances)"
   ]
  },
  {
   "cell_type": "code",
   "execution_count": 65,
   "metadata": {
    "ExecuteTime": {
     "end_time": "2020-04-02T18:01:26.007935Z",
     "start_time": "2020-04-02T18:01:25.661602Z"
    }
   },
   "outputs": [
    {
     "data": {
      "image/png": "[encoded data removed]",
      "text/plain": [
       "<Figure size 864x432 with 1 Axes>"
      ]
     },
     "metadata": {},
     "output_type": "display_data"
    }
   ],
   "source": [
    "plt.figure(figsize=(12,6))\n",
    "plt.title(\"labelset length mean/variance vs rank\")\n",
    "plt.xlabel(\"rank\")\n",
    "plt.ylabel(\"mean/variance\")\n",
    "plt.plot(np.arange(1,num_labels+1),lset_lengths_means,color=\"blue\",label=\"mean\")\n",
    "plt.plot(np.arange(1,num_labels+1),lset_lengths_variances,color=\"green\",label=\"variance\")\n",
    "_=plt.legend()"
   ]
  },
  {
   "cell_type": "markdown",
   "metadata": {},
   "source": [
    "## Label separability"
   ]
  },
  {
   "cell_type": "code",
   "execution_count": 66,
   "metadata": {
    "ExecuteTime": {
     "end_time": "2020-04-02T18:09:31.243010Z",
     "start_time": "2020-04-02T18:09:31.240287Z"
    }
   },
   "outputs": [],
   "source": [
    "from sklearn.metrics import silhouette_score"
   ]
  },
  {
   "cell_type": "code",
   "execution_count": 67,
   "metadata": {
    "ExecuteTime": {
     "end_time": "2020-04-02T18:32:42.414870Z",
     "start_time": "2020-04-02T18:09:32.073720Z"
    }
   },
   "outputs": [],
   "source": [
    "sepa_df=pd.DataFrame(columns=[\"count\",\"ratio\",\"silhouette\"],index=np.arange(0,num_labels))\n",
    "lcounts=np.sum(y_mat,axis=0)\n",
    "sepa_df.loc[:,\"count\"]=lcounts\n",
    "sepa_df.loc[:,\"ratio\"]=lcounts/num_points\n",
    "for i in range(0,num_labels):\n",
    "    sepa_df.loc[i,\"silhouette\"]=silhouette_score(x_mat, y_mat[:,i])"
   ]
  },
  {
   "cell_type": "code",
   "execution_count": 68,
   "metadata": {
    "ExecuteTime": {
     "end_time": "2020-04-02T18:32:42.441283Z",
     "start_time": "2020-04-02T18:32:42.419447Z"
    }
   },
   "outputs": [
    {
     "data": {
      "text/html": [
       "<div>\n",
       "<style scoped>\n",
       "    .dataframe tbody tr th:only-of-type {\n",
       "        vertical-align: middle;\n",
       "    }\n",
       "\n",
       "    .dataframe tbody tr th {\n",
       "        vertical-align: top;\n",
       "    }\n",
       "\n",
       "    .dataframe thead th {\n",
       "        text-align: right;\n",
       "    }\n",
       "</style>\n",
       "<table border=\"1\" class=\"dataframe\">\n",
       "  <thead>\n",
       "    <tr style=\"text-align: right;\">\n",
       "      <th></th>\n",
       "      <th>count</th>\n",
       "      <th>ratio</th>\n",
       "      <th>silhouette</th>\n",
       "    </tr>\n",
       "  </thead>\n",
       "  <tbody>\n",
       "    <tr>\n",
       "      <th>4</th>\n",
       "      <td>24</td>\n",
       "      <td>0.000774</td>\n",
       "      <td>-0.140562</td>\n",
       "    </tr>\n",
       "    <tr>\n",
       "      <th>7</th>\n",
       "      <td>26</td>\n",
       "      <td>0.000839</td>\n",
       "      <td>-0.0110895</td>\n",
       "    </tr>\n",
       "    <tr>\n",
       "      <th>8</th>\n",
       "      <td>27</td>\n",
       "      <td>0.000871</td>\n",
       "      <td>-0.153246</td>\n",
       "    </tr>\n",
       "    <tr>\n",
       "      <th>9</th>\n",
       "      <td>27</td>\n",
       "      <td>0.000871</td>\n",
       "      <td>-0.0939066</td>\n",
       "    </tr>\n",
       "    <tr>\n",
       "      <th>11</th>\n",
       "      <td>31</td>\n",
       "      <td>0.001000</td>\n",
       "      <td>-0.0748448</td>\n",
       "    </tr>\n",
       "    <tr>\n",
       "      <th>13</th>\n",
       "      <td>34</td>\n",
       "      <td>0.001097</td>\n",
       "      <td>-0.116239</td>\n",
       "    </tr>\n",
       "    <tr>\n",
       "      <th>16</th>\n",
       "      <td>42</td>\n",
       "      <td>0.001355</td>\n",
       "      <td>-0.123096</td>\n",
       "    </tr>\n",
       "    <tr>\n",
       "      <th>18</th>\n",
       "      <td>43</td>\n",
       "      <td>0.001387</td>\n",
       "      <td>-0.0575902</td>\n",
       "    </tr>\n",
       "    <tr>\n",
       "      <th>19</th>\n",
       "      <td>46</td>\n",
       "      <td>0.001484</td>\n",
       "      <td>-0.0927409</td>\n",
       "    </tr>\n",
       "    <tr>\n",
       "      <th>20</th>\n",
       "      <td>48</td>\n",
       "      <td>0.001549</td>\n",
       "      <td>-0.117602</td>\n",
       "    </tr>\n",
       "    <tr>\n",
       "      <th>21</th>\n",
       "      <td>49</td>\n",
       "      <td>0.001581</td>\n",
       "      <td>-0.0517806</td>\n",
       "    </tr>\n",
       "    <tr>\n",
       "      <th>22</th>\n",
       "      <td>52</td>\n",
       "      <td>0.001678</td>\n",
       "      <td>-0.0781698</td>\n",
       "    </tr>\n",
       "    <tr>\n",
       "      <th>24</th>\n",
       "      <td>66</td>\n",
       "      <td>0.002130</td>\n",
       "      <td>-0.0633102</td>\n",
       "    </tr>\n",
       "    <tr>\n",
       "      <th>27</th>\n",
       "      <td>69</td>\n",
       "      <td>0.002226</td>\n",
       "      <td>-0.0819808</td>\n",
       "    </tr>\n",
       "    <tr>\n",
       "      <th>30</th>\n",
       "      <td>78</td>\n",
       "      <td>0.002517</td>\n",
       "      <td>-0.135826</td>\n",
       "    </tr>\n",
       "    <tr>\n",
       "      <th>31</th>\n",
       "      <td>78</td>\n",
       "      <td>0.002517</td>\n",
       "      <td>-0.133567</td>\n",
       "    </tr>\n",
       "    <tr>\n",
       "      <th>32</th>\n",
       "      <td>80</td>\n",
       "      <td>0.002581</td>\n",
       "      <td>-0.0652631</td>\n",
       "    </tr>\n",
       "    <tr>\n",
       "      <th>34</th>\n",
       "      <td>81</td>\n",
       "      <td>0.002613</td>\n",
       "      <td>-0.0317314</td>\n",
       "    </tr>\n",
       "    <tr>\n",
       "      <th>35</th>\n",
       "      <td>91</td>\n",
       "      <td>0.002936</td>\n",
       "      <td>-0.128013</td>\n",
       "    </tr>\n",
       "    <tr>\n",
       "      <th>36</th>\n",
       "      <td>95</td>\n",
       "      <td>0.003065</td>\n",
       "      <td>-0.169779</td>\n",
       "    </tr>\n",
       "    <tr>\n",
       "      <th>37</th>\n",
       "      <td>99</td>\n",
       "      <td>0.003194</td>\n",
       "      <td>-0.0031533</td>\n",
       "    </tr>\n",
       "    <tr>\n",
       "      <th>38</th>\n",
       "      <td>101</td>\n",
       "      <td>0.003259</td>\n",
       "      <td>-0.0391065</td>\n",
       "    </tr>\n",
       "    <tr>\n",
       "      <th>40</th>\n",
       "      <td>133</td>\n",
       "      <td>0.004291</td>\n",
       "      <td>-0.0016087</td>\n",
       "    </tr>\n",
       "    <tr>\n",
       "      <th>43</th>\n",
       "      <td>181</td>\n",
       "      <td>0.005840</td>\n",
       "      <td>-0.197936</td>\n",
       "    </tr>\n",
       "    <tr>\n",
       "      <th>44</th>\n",
       "      <td>185</td>\n",
       "      <td>0.005969</td>\n",
       "      <td>-0.107812</td>\n",
       "    </tr>\n",
       "    <tr>\n",
       "      <th>48</th>\n",
       "      <td>215</td>\n",
       "      <td>0.006937</td>\n",
       "      <td>-0.137414</td>\n",
       "    </tr>\n",
       "    <tr>\n",
       "      <th>51</th>\n",
       "      <td>229</td>\n",
       "      <td>0.007389</td>\n",
       "      <td>-0.0899383</td>\n",
       "    </tr>\n",
       "    <tr>\n",
       "      <th>52</th>\n",
       "      <td>249</td>\n",
       "      <td>0.008034</td>\n",
       "      <td>-0.0895165</td>\n",
       "    </tr>\n",
       "    <tr>\n",
       "      <th>56</th>\n",
       "      <td>275</td>\n",
       "      <td>0.008873</td>\n",
       "      <td>-0.0553733</td>\n",
       "    </tr>\n",
       "    <tr>\n",
       "      <th>60</th>\n",
       "      <td>302</td>\n",
       "      <td>0.009744</td>\n",
       "      <td>-0.0815361</td>\n",
       "    </tr>\n",
       "    <tr>\n",
       "      <th>65</th>\n",
       "      <td>397</td>\n",
       "      <td>0.012809</td>\n",
       "      <td>-0.0764236</td>\n",
       "    </tr>\n",
       "    <tr>\n",
       "      <th>67</th>\n",
       "      <td>406</td>\n",
       "      <td>0.013100</td>\n",
       "      <td>-0.103163</td>\n",
       "    </tr>\n",
       "    <tr>\n",
       "      <th>70</th>\n",
       "      <td>481</td>\n",
       "      <td>0.015520</td>\n",
       "      <td>-0.10568</td>\n",
       "    </tr>\n",
       "    <tr>\n",
       "      <th>71</th>\n",
       "      <td>501</td>\n",
       "      <td>0.016165</td>\n",
       "      <td>-0.0363659</td>\n",
       "    </tr>\n",
       "    <tr>\n",
       "      <th>72</th>\n",
       "      <td>682</td>\n",
       "      <td>0.022005</td>\n",
       "      <td>-0.0751774</td>\n",
       "    </tr>\n",
       "    <tr>\n",
       "      <th>75</th>\n",
       "      <td>886</td>\n",
       "      <td>0.028587</td>\n",
       "      <td>-0.148805</td>\n",
       "    </tr>\n",
       "    <tr>\n",
       "      <th>78</th>\n",
       "      <td>1125</td>\n",
       "      <td>0.036299</td>\n",
       "      <td>-0.0585589</td>\n",
       "    </tr>\n",
       "    <tr>\n",
       "      <th>80</th>\n",
       "      <td>1441</td>\n",
       "      <td>0.046494</td>\n",
       "      <td>-0.073013</td>\n",
       "    </tr>\n",
       "    <tr>\n",
       "      <th>81</th>\n",
       "      <td>1487</td>\n",
       "      <td>0.047979</td>\n",
       "      <td>-0.110836</td>\n",
       "    </tr>\n",
       "    <tr>\n",
       "      <th>83</th>\n",
       "      <td>1588</td>\n",
       "      <td>0.051237</td>\n",
       "      <td>-0.111193</td>\n",
       "    </tr>\n",
       "    <tr>\n",
       "      <th>84</th>\n",
       "      <td>1605</td>\n",
       "      <td>0.051786</td>\n",
       "      <td>-0.00931622</td>\n",
       "    </tr>\n",
       "    <tr>\n",
       "      <th>89</th>\n",
       "      <td>2746</td>\n",
       "      <td>0.088601</td>\n",
       "      <td>-0.0847377</td>\n",
       "    </tr>\n",
       "    <tr>\n",
       "      <th>93</th>\n",
       "      <td>4355</td>\n",
       "      <td>0.140516</td>\n",
       "      <td>-0.0390256</td>\n",
       "    </tr>\n",
       "    <tr>\n",
       "      <th>94</th>\n",
       "      <td>4546</td>\n",
       "      <td>0.146678</td>\n",
       "      <td>-0.000127473</td>\n",
       "    </tr>\n",
       "    <tr>\n",
       "      <th>95</th>\n",
       "      <td>5455</td>\n",
       "      <td>0.176007</td>\n",
       "      <td>-0.0227188</td>\n",
       "    </tr>\n",
       "    <tr>\n",
       "      <th>96</th>\n",
       "      <td>6270</td>\n",
       "      <td>0.202304</td>\n",
       "      <td>-0.0284386</td>\n",
       "    </tr>\n",
       "  </tbody>\n",
       "</table>\n",
       "</div>"
      ],
      "text/plain": [
       "    count     ratio   silhouette\n",
       "4      24  0.000774    -0.140562\n",
       "7      26  0.000839   -0.0110895\n",
       "8      27  0.000871    -0.153246\n",
       "9      27  0.000871   -0.0939066\n",
       "11     31  0.001000   -0.0748448\n",
       "13     34  0.001097    -0.116239\n",
       "16     42  0.001355    -0.123096\n",
       "18     43  0.001387   -0.0575902\n",
       "19     46  0.001484   -0.0927409\n",
       "20     48  0.001549    -0.117602\n",
       "21     49  0.001581   -0.0517806\n",
       "22     52  0.001678   -0.0781698\n",
       "24     66  0.002130   -0.0633102\n",
       "27     69  0.002226   -0.0819808\n",
       "30     78  0.002517    -0.135826\n",
       "31     78  0.002517    -0.133567\n",
       "32     80  0.002581   -0.0652631\n",
       "34     81  0.002613   -0.0317314\n",
       "35     91  0.002936    -0.128013\n",
       "36     95  0.003065    -0.169779\n",
       "37     99  0.003194   -0.0031533\n",
       "38    101  0.003259   -0.0391065\n",
       "40    133  0.004291   -0.0016087\n",
       "43    181  0.005840    -0.197936\n",
       "44    185  0.005969    -0.107812\n",
       "48    215  0.006937    -0.137414\n",
       "51    229  0.007389   -0.0899383\n",
       "52    249  0.008034   -0.0895165\n",
       "56    275  0.008873   -0.0553733\n",
       "60    302  0.009744   -0.0815361\n",
       "65    397  0.012809   -0.0764236\n",
       "67    406  0.013100    -0.103163\n",
       "70    481  0.015520     -0.10568\n",
       "71    501  0.016165   -0.0363659\n",
       "72    682  0.022005   -0.0751774\n",
       "75    886  0.028587    -0.148805\n",
       "78   1125  0.036299   -0.0585589\n",
       "80   1441  0.046494    -0.073013\n",
       "81   1487  0.047979    -0.110836\n",
       "83   1588  0.051237    -0.111193\n",
       "84   1605  0.051786  -0.00931622\n",
       "89   2746  0.088601   -0.0847377\n",
       "93   4355  0.140516   -0.0390256\n",
       "94   4546  0.146678 -0.000127473\n",
       "95   5455  0.176007   -0.0227188\n",
       "96   6270  0.202304   -0.0284386"
      ]
     },
     "execution_count": 68,
     "metadata": {},
     "output_type": "execute_result"
    }
   ],
   "source": [
    "sepa_df[sepa_df[\"silhouette\"]<0]"
   ]
  }
 ],
 "metadata": {
  "hide_input": false,
  "kernelspec": {
   "display_name": "Python 3",
   "language": "python",
   "name": "python3"
  },
  "language_info": {
   "codemirror_mode": {
    "name": "ipython",
    "version": 3
   },
   "file_extension": ".py",
   "mimetype": "text/x-python",
   "name": "python",
   "nbconvert_exporter": "python",
   "pygments_lexer": "ipython3",
   "version": "3.6.9"
  },
  "toc": {
   "base_numbering": 1,
   "nav_menu": {},
   "number_sections": true,
   "sideBar": true,
   "skip_h1_title": false,
   "title_cell": "Table of Contents",
   "title_sidebar": "Contents",
   "toc_cell": false,
   "toc_position": {},
   "toc_section_display": true,
   "toc_window_display": false
  }
 },
 "nbformat": 4,
 "nbformat_minor": 2
}
