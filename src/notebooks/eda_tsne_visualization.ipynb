{
 "cells": [
  {
   "cell_type": "markdown",
   "metadata": {},
   "source": [
    "# Initialization"
   ]
  },
  {
   "cell_type": "code",
   "execution_count": 3,
   "metadata": {
    "ExecuteTime": {
     "end_time": "2020-04-02T18:11:08.032229Z",
     "start_time": "2020-04-02T18:11:08.001907Z"
    }
   },
   "outputs": [],
   "source": [
    "import sys\n",
    "sys.path.append(\"..\")"
   ]
  },
  {
   "cell_type": "code",
   "execution_count": 6,
   "metadata": {
    "ExecuteTime": {
     "end_time": "2020-04-02T18:11:35.675121Z",
     "start_time": "2020-04-02T18:11:35.628095Z"
    }
   },
   "outputs": [],
   "source": [
    "## Imports\n",
    "import os\n",
    "import numpy as np\n",
    "import pandas as pd\n",
    "%matplotlib inline\n",
    "import matplotlib\n",
    "import matplotlib.pyplot as plt\n",
    "import seaborn as sb\n",
    "sb.set(style=\"white\", palette=\"muted\")\n",
    "import mydatasets\n",
    "import utils\n",
    "import math\n",
    "from sklearn.decomposition import PCA\n",
    "from sklearn.manifold import TSNE\n",
    "from sklearn.cluster import KMeans\n",
    "import ipywidgets as widgets\n",
    "from ipywidgets import interact,fixed,interact_manual"
   ]
  },
  {
   "cell_type": "code",
   "execution_count": 7,
   "metadata": {
    "ExecuteTime": {
     "end_time": "2020-04-02T18:11:37.617277Z",
     "start_time": "2020-04-02T18:11:37.577575Z"
    }
   },
   "outputs": [],
   "source": [
    "DATASET=\"delicious\"\n",
    "SPLIT=0"
   ]
  },
  {
   "cell_type": "code",
   "execution_count": 8,
   "metadata": {
    "ExecuteTime": {
     "end_time": "2020-04-02T18:11:38.339031Z",
     "start_time": "2020-04-02T18:11:38.312904Z"
    }
   },
   "outputs": [
    {
     "name": "stdout",
     "output_type": "stream",
     "text": [
      "Dataset : delicious / Split : 0\n"
     ]
    }
   ],
   "source": [
    "print(\"Dataset :\",DATASET,\"/ Split :\",SPLIT)"
   ]
  },
  {
   "cell_type": "code",
   "execution_count": 9,
   "metadata": {
    "ExecuteTime": {
     "end_time": "2020-04-02T18:11:40.920208Z",
     "start_time": "2020-04-02T18:11:39.352348Z"
    }
   },
   "outputs": [
    {
     "name": "stdout",
     "output_type": "stream",
     "text": [
      "Loading datasets\n",
      "../data/Delicious/Delicious_data.txt\n",
      "../data/Delicious/delicious_trSplit.txt\n",
      "../data/Delicious/delicious_tstSplit.txt\n",
      "Number of splits : 10\n",
      "## HEADER ##\n",
      "#Point : 16105 , #Features : 500 , #Labels : 983\n"
     ]
    }
   ],
   "source": [
    "curr_dir=os.getcwd()\n",
    "os.chdir(\"..\")\n",
    "if DATASET in [\"mediamill\",\"delicious\"]:\n",
    "    full_dataset,trn_splits,tst_splits=mydatasets.load_small_dataset(DATASET)\n",
    "    trn_data,tst_data=mydatasets.get_small_dataset_split(full_dataset,trn_splits,tst_splits,SPLIT)\n",
    "else:\n",
    "    trn_data,tst_data=mydatasets.load_large_dataset(DATASET)\n",
    "os.chdir(curr_dir)\n",
    "x_mat,y_mat=mydatasets.get_arrays(trn_data)\n",
    "x_tst,y_tst=mydatasets.get_arrays(tst_data)"
   ]
  },
  {
   "cell_type": "code",
   "execution_count": 10,
   "metadata": {
    "ExecuteTime": {
     "end_time": "2020-04-02T18:11:42.042097Z",
     "start_time": "2020-04-02T18:11:41.993265Z"
    }
   },
   "outputs": [
    {
     "name": "stdout",
     "output_type": "stream",
     "text": [
      "x_mat : (12920, 500)\n",
      "y_mat : (12920, 983)\n",
      "x_tst : (3185, 500)\n",
      "y_tst : (3185, 983)\n"
     ]
    }
   ],
   "source": [
    "print(\"x_mat :\",x_mat.shape)\n",
    "print(\"y_mat :\",y_mat.shape)\n",
    "print(\"x_tst :\",x_tst.shape)\n",
    "print(\"y_tst :\",y_tst.shape)"
   ]
  },
  {
   "cell_type": "markdown",
   "metadata": {},
   "source": [
    "Let us reorder labels in order of increasing count"
   ]
  },
  {
   "cell_type": "code",
   "execution_count": 11,
   "metadata": {
    "ExecuteTime": {
     "end_time": "2020-04-02T18:11:43.824713Z",
     "start_time": "2020-04-02T18:11:43.524473Z"
    }
   },
   "outputs": [],
   "source": [
    "label_counts=np.sum(y_mat,axis=0)\n",
    "reorder=np.argsort(label_counts)\n",
    "y_mat=y_mat[:,reorder]"
   ]
  },
  {
   "cell_type": "code",
   "execution_count": 12,
   "metadata": {
    "ExecuteTime": {
     "end_time": "2020-04-02T18:11:45.906006Z",
     "start_time": "2020-04-02T18:11:45.853544Z"
    }
   },
   "outputs": [
    {
     "name": "stdout",
     "output_type": "stream",
     "text": [
      "----Training set stats----\n",
      "Number of points : 12920\n",
      "Feature dimensionality : 500\n",
      "Label dimensionality : 983\n"
     ]
    }
   ],
   "source": [
    "num_points=x_mat.shape[0]\n",
    "num_features=x_mat.shape[1]\n",
    "num_labels=y_mat.shape[1]\n",
    "print(\"----Training set stats----\")\n",
    "print(\"Number of points :\",num_points)\n",
    "print(\"Feature dimensionality :\",num_features)\n",
    "print(\"Label dimensionality :\",num_labels)"
   ]
  },
  {
   "cell_type": "markdown",
   "metadata": {},
   "source": [
    "# Visualization of labels in X (TSNE)"
   ]
  },
  {
   "cell_type": "code",
   "execution_count": 13,
   "metadata": {
    "ExecuteTime": {
     "end_time": "2020-04-02T18:11:47.977799Z",
     "start_time": "2020-04-02T18:11:47.941059Z"
    }
   },
   "outputs": [],
   "source": [
    "PCA_COMPONENTS=50"
   ]
  },
  {
   "cell_type": "code",
   "execution_count": 14,
   "metadata": {
    "ExecuteTime": {
     "end_time": "2020-04-02T18:13:34.785635Z",
     "start_time": "2020-04-02T18:11:48.762292Z"
    }
   },
   "outputs": [],
   "source": [
    "pca=PCA(n_components=PCA_COMPONENTS)\n",
    "x_red=pca.fit_transform(x_mat)\n",
    "x_tsne=TSNE(n_components=2,n_jobs=-1,metric=\"cosine\").fit_transform(x_red)"
   ]
  },
  {
   "cell_type": "code",
   "execution_count": 16,
   "metadata": {
    "ExecuteTime": {
     "end_time": "2020-04-02T18:19:16.252717Z",
     "start_time": "2020-04-02T18:19:16.224170Z"
    }
   },
   "outputs": [],
   "source": [
    "def plot_labels_with_x_background(x_tsne,y_mat,lab_idx):\n",
    "    plt.figure(figsize=(10,10))\n",
    "    sizes=[3 for j in range(0,x_tsne.shape[0])]\n",
    "    plt.scatter(x_tsne[:,0],x_tsne[:,1],color=\"#eda6ae\",s=sizes)\n",
    "    supp_bool=y_mat[:,lab_idx]==1\n",
    "    lab_points=x_tsne[supp_bool,:]\n",
    "    plt.scatter(lab_points[:,0],lab_points[:,1],color=\"#43464a\",marker=\"o\")\n",
    "    num_lab_points=np.sum(supp_bool)\n",
    "    percent=np.round(100*num_lab_points/y_mat.shape[0],decimals=2)\n",
    "    print(\"Number of points in label = \",num_lab_points,\",\",percent,\"%\")"
   ]
  },
  {
   "cell_type": "code",
   "execution_count": 17,
   "metadata": {
    "ExecuteTime": {
     "end_time": "2020-04-02T18:19:18.881806Z",
     "start_time": "2020-04-02T18:19:18.849097Z"
    }
   },
   "outputs": [],
   "source": [
    "label_selector=widgets.IntSlider(\n",
    "    value=0,\n",
    "    min=0,\n",
    "    max=num_labels-1,\n",
    "    step=1,\n",
    "    description='Label Rank:',\n",
    "    disabled=False,\n",
    "    continuous_update=False,\n",
    "    orientation='horizontal',\n",
    "    readout=True,\n",
    "    readout_format='d'\n",
    ")"
   ]
  },
  {
   "cell_type": "code",
   "execution_count": 18,
   "metadata": {
    "ExecuteTime": {
     "end_time": "2020-04-02T18:19:20.200033Z",
     "start_time": "2020-04-02T18:19:19.688253Z"
    }
   },
   "outputs": [
    {
     "data": {
      "application/vnd.jupyter.widget-view+json": {
       "model_id": "f39b3885f4704ac09fc74b574cbe5851",
       "version_major": 2,
       "version_minor": 0
      },
      "text/plain": [
       "interactive(children=(IntSlider(value=0, continuous_update=False, description='Label Rank:', max=982), Button(…"
      ]
     },
     "metadata": {},
     "output_type": "display_data"
    }
   ],
   "source": [
    "_=interact_manual(plot_labels_with_x_background,x_tsne=fixed(x_tsne),y_mat=fixed(y_mat),lab_idx=label_selector)"
   ]
  },
  {
   "cell_type": "markdown",
   "metadata": {},
   "source": [
    "# Visualization of labels in Y (TSNE)"
   ]
  },
  {
   "cell_type": "markdown",
   "metadata": {},
   "source": [
    "First let's filter out duplicate labelsets"
   ]
  },
  {
   "cell_type": "code",
   "execution_count": 19,
   "metadata": {
    "ExecuteTime": {
     "end_time": "2020-04-02T18:20:12.795167Z",
     "start_time": "2020-04-02T18:20:10.139876Z"
    }
   },
   "outputs": [],
   "source": [
    "y_unique,inv,uncounts=np.unique(y_mat,axis=0,return_inverse=True,return_counts=True)"
   ]
  },
  {
   "cell_type": "code",
   "execution_count": 20,
   "metadata": {
    "ExecuteTime": {
     "end_time": "2020-04-02T18:20:12.823619Z",
     "start_time": "2020-04-02T18:20:12.797184Z"
    }
   },
   "outputs": [],
   "source": [
    "PCA_COMPONENTS=50"
   ]
  },
  {
   "cell_type": "code",
   "execution_count": 21,
   "metadata": {
    "ExecuteTime": {
     "end_time": "2020-04-02T18:21:45.040160Z",
     "start_time": "2020-04-02T18:20:12.825695Z"
    }
   },
   "outputs": [],
   "source": [
    "pca=PCA(n_components=PCA_COMPONENTS)\n",
    "y_red=pca.fit_transform(y_unique)\n",
    "y_tsne=TSNE(n_components=2,n_jobs=-1).fit_transform(y_red)"
   ]
  },
  {
   "cell_type": "code",
   "execution_count": 22,
   "metadata": {
    "ExecuteTime": {
     "end_time": "2020-04-02T18:21:45.097727Z",
     "start_time": "2020-04-02T18:21:45.043625Z"
    }
   },
   "outputs": [],
   "source": [
    "def plot_labels_with_y_background(y_tsne,y_unique,lab_idx):\n",
    "    plt.figure(figsize=(10,10))\n",
    "    sizes=[3 for j in range(0,y_tsne.shape[0])]\n",
    "    plt.scatter(y_tsne[:,0],y_tsne[:,1],color=\"#eda6ae\",s=sizes)\n",
    "    supp_bool=y_unique[:,lab_idx]==1\n",
    "    lab_points=y_tsne[supp_bool,:]\n",
    "    plt.scatter(lab_points[:,0],lab_points[:,1],color=\"#43464a\",marker=\"o\")\n",
    "    num_lab_points=np.sum(supp_bool)\n",
    "    percent=np.round(100*num_lab_points/y_unique.shape[0],decimals=2)\n",
    "    print(\"Number of unique labelsets in label = \",num_lab_points,\",\",percent,\"%\")"
   ]
  },
  {
   "cell_type": "code",
   "execution_count": 23,
   "metadata": {
    "ExecuteTime": {
     "end_time": "2020-04-02T18:21:45.157441Z",
     "start_time": "2020-04-02T18:21:45.101180Z"
    }
   },
   "outputs": [],
   "source": [
    "label_selector_2=widgets.IntSlider(\n",
    "    value=0,\n",
    "    min=0,\n",
    "    max=num_labels-1,\n",
    "    step=1,\n",
    "    description='Label Rank:',\n",
    "    disabled=False,\n",
    "    continuous_update=False,\n",
    "    orientation='horizontal',\n",
    "    readout=True,\n",
    "    readout_format='d'\n",
    ")"
   ]
  },
  {
   "cell_type": "code",
   "execution_count": 24,
   "metadata": {
    "ExecuteTime": {
     "end_time": "2020-04-02T18:21:45.644014Z",
     "start_time": "2020-04-02T18:21:45.160169Z"
    }
   },
   "outputs": [
    {
     "data": {
      "application/vnd.jupyter.widget-view+json": {
       "model_id": "92d420c3adc042e5854661fe385062ab",
       "version_major": 2,
       "version_minor": 0
      },
      "text/plain": [
       "interactive(children=(IntSlider(value=0, continuous_update=False, description='Label Rank:', max=982), Button(…"
      ]
     },
     "metadata": {},
     "output_type": "display_data"
    }
   ],
   "source": [
    "_=interact_manual(plot_labels_with_y_background,y_tsne=fixed(y_tsne),y_unique=fixed(y_unique),lab_idx=label_selector_2)"
   ]
  },
  {
   "cell_type": "markdown",
   "metadata": {},
   "source": [
    "# Visualization of labelsets in X (TSNE)"
   ]
  },
  {
   "cell_type": "code",
   "execution_count": 25,
   "metadata": {
    "ExecuteTime": {
     "end_time": "2020-04-02T18:21:45.682449Z",
     "start_time": "2020-04-02T18:21:45.646422Z"
    }
   },
   "outputs": [],
   "source": [
    "NUM_CLUSTERS=10"
   ]
  },
  {
   "cell_type": "code",
   "execution_count": 26,
   "metadata": {
    "ExecuteTime": {
     "end_time": "2020-04-02T18:22:02.416650Z",
     "start_time": "2020-04-02T18:21:45.686802Z"
    }
   },
   "outputs": [],
   "source": [
    "kmeans=KMeans(n_clusters=NUM_CLUSTERS,n_jobs=-1,precompute_distances=True).fit(y_unique)\n",
    "cluster_labels=kmeans.predict(y_mat)"
   ]
  },
  {
   "cell_type": "code",
   "execution_count": 27,
   "metadata": {
    "ExecuteTime": {
     "end_time": "2020-04-02T18:22:02.471394Z",
     "start_time": "2020-04-02T18:22:02.420345Z"
    }
   },
   "outputs": [],
   "source": [
    "def plot_labelset_clusters_with_x_background(x_tsne,cluster_labels,cluster_idx):\n",
    "    plt.figure(figsize=(10,10))\n",
    "    sizes=[3 for j in range(0,x_tsne.shape[0])]\n",
    "    plt.scatter(x_tsne[:,0],x_tsne[:,1],color=\"#eda6ae\",s=sizes)\n",
    "    supp_bool=cluster_labels==cluster_idx\n",
    "    lab_points=x_tsne[supp_bool,:]\n",
    "    plt.scatter(lab_points[:,0],lab_points[:,1],color=\"#43464a\",marker=\"o\")\n",
    "    num_lab_points=np.sum(supp_bool)\n",
    "    percent=np.round(100*num_lab_points/x_tsne.shape[0],decimals=2)\n",
    "    print(\"Number of points in labelset cluster = \",num_lab_points,\",\",percent,\"%\")"
   ]
  },
  {
   "cell_type": "code",
   "execution_count": 28,
   "metadata": {
    "ExecuteTime": {
     "end_time": "2020-04-02T18:22:02.531688Z",
     "start_time": "2020-04-02T18:22:02.474301Z"
    }
   },
   "outputs": [],
   "source": [
    "label_selector_3=widgets.IntSlider(\n",
    "    value=0,\n",
    "    min=0,\n",
    "    max=NUM_CLUSTERS-1,\n",
    "    step=1,\n",
    "    description='Label Rank:',\n",
    "    disabled=False,\n",
    "    continuous_update=False,\n",
    "    orientation='horizontal',\n",
    "    readout=True,\n",
    "    readout_format='d'\n",
    ")"
   ]
  },
  {
   "cell_type": "code",
   "execution_count": 29,
   "metadata": {
    "ExecuteTime": {
     "end_time": "2020-04-02T18:22:02.616546Z",
     "start_time": "2020-04-02T18:22:02.534659Z"
    }
   },
   "outputs": [
    {
     "data": {
      "application/vnd.jupyter.widget-view+json": {
       "model_id": "372c375948f14e89949f63dd533a1a39",
       "version_major": 2,
       "version_minor": 0
      },
      "text/plain": [
       "interactive(children=(IntSlider(value=0, continuous_update=False, description='Label Rank:', max=9), Button(de…"
      ]
     },
     "metadata": {},
     "output_type": "display_data"
    }
   ],
   "source": [
    "_=interact_manual(plot_labelset_clusters_with_x_background,x_tsne=fixed(x_tsne),cluster_labels=fixed(cluster_labels),cluster_idx=label_selector_3)"
   ]
  }
 ],
 "metadata": {
  "hide_input": false,
  "kernelspec": {
   "display_name": "Python 3",
   "language": "python",
   "name": "python3"
  },
  "language_info": {
   "codemirror_mode": {
    "name": "ipython",
    "version": 3
   },
   "file_extension": ".py",
   "mimetype": "text/x-python",
   "name": "python",
   "nbconvert_exporter": "python",
   "pygments_lexer": "ipython3",
   "version": "3.6.9"
  },
  "toc": {
   "base_numbering": 1,
   "nav_menu": {},
   "number_sections": true,
   "sideBar": true,
   "skip_h1_title": false,
   "title_cell": "Table of Contents",
   "title_sidebar": "Contents",
   "toc_cell": false,
   "toc_position": {},
   "toc_section_display": true,
   "toc_window_display": false
  }
 },
 "nbformat": 4,
 "nbformat_minor": 2
}
